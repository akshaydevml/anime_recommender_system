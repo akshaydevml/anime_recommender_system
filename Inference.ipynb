{
 "cells": [
  {
   "cell_type": "code",
   "execution_count": null,
   "id": "cb46c1c9-8983-4da8-8021-67f99864b2bc",
   "metadata": {},
   "outputs": [],
   "source": [
    "import pandas as pd\n",
    "import numpy as np\n",
    "import faiss\n",
    "from sentence_transformers import SentenceTransformer \n",
    "from sentence_transformers import CrossEncoder"
   ]
  },
  {
   "cell_type": "code",
   "execution_count": null,
   "id": "d8bd26ba-3a88-4e5c-b714-fd5d3a09756a",
   "metadata": {},
   "outputs": [],
   "source": []
  },
  {
   "cell_type": "code",
   "execution_count": null,
   "id": "17b7dca1-7621-4daa-afda-6759b5e9d5ce",
   "metadata": {},
   "outputs": [],
   "source": [
    "df = pd.read_csv('anime_dataset.csv')\n",
    "corpus = df['Synopsis'].tolist()\n",
    "corpus_embeddings = model.encode(corpus)\n",
    "\n",
    "\n",
    "dimension = corpus_embeddings.shape[1]\n",
    "index = faiss.IndexFlatL2(dimension)\n",
    "\n",
    "\n",
    "index.add(corpus_embeddings)\n",
    "query = \"a story about bounty hunters\"\n",
    "query_embedding = model.encode(query)\n",
    "\n",
    "# Perform the search using Faiss\n",
    "distance, index_id = index.search(np.array([query_embedding]), 40)\n",
    "\n",
    "index_id = index_id[0]\n",
    "distance = distance[0]\n",
    "x = []\n",
    "\n",
    "print(\"Query:\", query)\n",
    "print(\"Top 5 retrieved sentences:\")\n",
    "for i in range(len(index_id)):\n",
    "    print(f\"{i+1}. {corpus[index_id[i]]} (Distance: {distance[i]})\")\n",
    "    x.append(corpus[index_id[i]])\n",
    "    "
   ]
  }
 ],
 "metadata": {
  "kernelspec": {
   "display_name": "Python 3 (ipykernel)",
   "language": "python",
   "name": "python3"
  },
  "language_info": {
   "codemirror_mode": {
    "name": "ipython",
    "version": 3
   },
   "file_extension": ".py",
   "mimetype": "text/x-python",
   "name": "python",
   "nbconvert_exporter": "python",
   "pygments_lexer": "ipython3",
   "version": "3.9.16"
  }
 },
 "nbformat": 4,
 "nbformat_minor": 5
}
